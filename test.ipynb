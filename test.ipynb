{
 "cells": [
  {
   "cell_type": "code",
   "execution_count": 2,
   "metadata": {},
   "outputs": [
    {
     "name": "stdout",
     "output_type": "stream",
     "text": [
      "['U' 'M' 'F' nan 'X']\n"
     ]
    }
   ],
   "source": [
    "\n",
    "import pandas as pd\n",
    "\n",
    "# Cargar los datos desde el archivo original\n",
    "df_demo = pd.read_csv('d:/Documents/GitHub/VanguardCX/data/df_final_demo.txt')\n",
    "\n",
    "# Revisar los valores únicos en la columna 'gendr'\n",
    "print(df_demo['gendr'].unique())"
   ]
  },
  {
   "cell_type": "code",
   "execution_count": 1,
   "metadata": {},
   "outputs": [
    {
     "name": "stdout",
     "output_type": "stream",
     "text": [
      "Valores únicos en la columna 'Variation':\n",
      "['Test' 'Control' nan]\n"
     ]
    }
   ],
   "source": [
    "import pandas as pd\n",
    "\n",
    "def check_variation_values():\n",
    "    # Leer el archivo de datos que contiene la columna 'Variation'\n",
    "    df_exp = pd.read_csv('data/df_final_experiment_clients.txt', delimiter=',')\n",
    "    \n",
    "    # Revisar los valores únicos en la columna 'Variation'\n",
    "    if 'Variation' in df_exp.columns:\n",
    "        print(\"Valores únicos en la columna 'Variation':\")\n",
    "        print(df_exp['Variation'].unique())\n",
    "    else:\n",
    "        print(\"Error: La columna 'Variation' no está en el DataFrame.\")\n",
    "\n",
    "if __name__ == \"__main__\":\n",
    "    check_variation_values()\n"
   ]
  },
  {
   "cell_type": "code",
   "execution_count": 4,
   "metadata": {},
   "outputs": [
    {
     "name": "stdout",
     "output_type": "stream",
     "text": [
      "Index(['client_id,Variation'], dtype='object')\n"
     ]
    }
   ],
   "source": [
    "import pandas as pd\n",
    "\n",
    "# Cargar el archivo .txt en un DataFrame\n",
    "df = pd.read_csv('data/df_final_experiment_clients.txt', sep='\\t')  # Ajusta el delimitador si es necesario\n",
    "\n",
    "# Verificar los nombres de las columnas\n",
    "print(df.columns)\n"
   ]
  }
 ],
 "metadata": {
  "kernelspec": {
   "display_name": "myenv_new",
   "language": "python",
   "name": "python3"
  },
  "language_info": {
   "codemirror_mode": {
    "name": "ipython",
    "version": 3
   },
   "file_extension": ".py",
   "mimetype": "text/x-python",
   "name": "python",
   "nbconvert_exporter": "python",
   "pygments_lexer": "ipython3",
   "version": "3.11.9"
  }
 },
 "nbformat": 4,
 "nbformat_minor": 2
}
